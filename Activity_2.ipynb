{
 "cells": [
  {
   "cell_type": "markdown",
   "id": "14aded91-3e9f-4b1a-a099-03b052f3d298",
   "metadata": {},
   "source": [
    "<h1>Activity 2: UK Road Accidents </h1>\n",
    "<hr>\n",
    "<h3>Analyst: Martin Ryan V. Garay</h3>"
   ]
  },
  {
   "cell_type": "markdown",
   "id": "35797892-0ff3-4d03-bc4c-a64ae8c5de8c",
   "metadata": {},
   "source": [
    "<H2>Import Libraries</H2>"
   ]
  },
  {
   "cell_type": "code",
   "execution_count": 1,
   "id": "46c61c05-4d1a-42a0-9c48-aa987001293c",
   "metadata": {},
   "outputs": [],
   "source": [
    "import numpy as np\n",
    "import pandas as pd\n",
    "import warnings\n",
    "from scipy.stats import f_oneway\n",
    "warnings.filterwarnings(\"ignore\")"
   ]
  },
  {
   "cell_type": "markdown",
   "id": "62bc9ee8-80c8-42de-a6b2-efb3a6e1ec3b",
   "metadata": {},
   "source": [
    "<H2>Load Dataset into DataFrame</H2>"
   ]
  },
  {
   "cell_type": "code",
   "execution_count": 2,
   "id": "29dcb6b1-1078-4321-a337-8165df6ca133",
   "metadata": {},
   "outputs": [],
   "source": [
    "df = pd.read_csv('Datasets\\\\uk_road_accident.csv')"
   ]
  },
  {
   "cell_type": "markdown",
   "id": "ec92b4e5-b51e-4109-9e27-0713adaaf183",
   "metadata": {},
   "source": [
    "<h2>Check DataFrame Information</h2>"
   ]
  },
  {
   "cell_type": "raw",
   "id": "6fe04a94-2b04-442d-819b-172d8f307b57",
   "metadata": {},
   "source": [
    "df"
   ]
  },
  {
   "cell_type": "code",
   "execution_count": 3,
   "id": "27dfd8d6-f8e0-44a1-9cf4-2b6fa48e7209",
   "metadata": {
    "scrolled": true
   },
   "outputs": [
    {
     "name": "stdout",
     "output_type": "stream",
     "text": [
      "<class 'pandas.core.frame.DataFrame'>\n",
      "RangeIndex: 660679 entries, 0 to 660678\n",
      "Data columns (total 14 columns):\n",
      " #   Column                   Non-Null Count   Dtype  \n",
      "---  ------                   --------------   -----  \n",
      " 0   Index                    660679 non-null  object \n",
      " 1   Accident_Severity        660679 non-null  object \n",
      " 2   Accident Date            660679 non-null  object \n",
      " 3   Latitude                 660654 non-null  float64\n",
      " 4   Light_Conditions         660679 non-null  object \n",
      " 5   District Area            660679 non-null  object \n",
      " 6   Longitude                660653 non-null  float64\n",
      " 7   Number_of_Casualties     660679 non-null  int64  \n",
      " 8   Number_of_Vehicles       660679 non-null  int64  \n",
      " 9   Road_Surface_Conditions  659953 non-null  object \n",
      " 10  Road_Type                656159 non-null  object \n",
      " 11  Urban_or_Rural_Area      660664 non-null  object \n",
      " 12  Weather_Conditions       646551 non-null  object \n",
      " 13  Vehicle_Type             660679 non-null  object \n",
      "dtypes: float64(2), int64(2), object(10)\n",
      "memory usage: 70.6+ MB\n"
     ]
    }
   ],
   "source": [
    "df.info()"
   ]
  },
  {
   "cell_type": "markdown",
   "id": "4877cba7-f6df-48f0-8f3f-a0b225593d81",
   "metadata": {},
   "source": [
    "<h2>Basic Descriptive Statistic</h2>"
   ]
  },
  {
   "cell_type": "code",
   "execution_count": 4,
   "id": "81fc682d-0fc9-4e6c-a367-f8d84cf3f83d",
   "metadata": {
    "scrolled": true
   },
   "outputs": [
    {
     "data": {
      "text/html": [
       "<div>\n",
       "<style scoped>\n",
       "    .dataframe tbody tr th:only-of-type {\n",
       "        vertical-align: middle;\n",
       "    }\n",
       "\n",
       "    .dataframe tbody tr th {\n",
       "        vertical-align: top;\n",
       "    }\n",
       "\n",
       "    .dataframe thead th {\n",
       "        text-align: right;\n",
       "    }\n",
       "</style>\n",
       "<table border=\"1\" class=\"dataframe\">\n",
       "  <thead>\n",
       "    <tr style=\"text-align: right;\">\n",
       "      <th></th>\n",
       "      <th>Latitude</th>\n",
       "      <th>Longitude</th>\n",
       "      <th>Number_of_Casualties</th>\n",
       "      <th>Number_of_Vehicles</th>\n",
       "    </tr>\n",
       "  </thead>\n",
       "  <tbody>\n",
       "    <tr>\n",
       "      <th>count</th>\n",
       "      <td>660654.000000</td>\n",
       "      <td>660653.000000</td>\n",
       "      <td>660679.000000</td>\n",
       "      <td>660679.000000</td>\n",
       "    </tr>\n",
       "    <tr>\n",
       "      <th>mean</th>\n",
       "      <td>52.553866</td>\n",
       "      <td>-1.431210</td>\n",
       "      <td>1.357040</td>\n",
       "      <td>1.831255</td>\n",
       "    </tr>\n",
       "    <tr>\n",
       "      <th>std</th>\n",
       "      <td>1.406922</td>\n",
       "      <td>1.383330</td>\n",
       "      <td>0.824847</td>\n",
       "      <td>0.715269</td>\n",
       "    </tr>\n",
       "    <tr>\n",
       "      <th>min</th>\n",
       "      <td>49.914430</td>\n",
       "      <td>-7.516225</td>\n",
       "      <td>1.000000</td>\n",
       "      <td>1.000000</td>\n",
       "    </tr>\n",
       "    <tr>\n",
       "      <th>25%</th>\n",
       "      <td>51.490690</td>\n",
       "      <td>-2.332291</td>\n",
       "      <td>1.000000</td>\n",
       "      <td>1.000000</td>\n",
       "    </tr>\n",
       "    <tr>\n",
       "      <th>50%</th>\n",
       "      <td>52.315641</td>\n",
       "      <td>-1.411667</td>\n",
       "      <td>1.000000</td>\n",
       "      <td>2.000000</td>\n",
       "    </tr>\n",
       "    <tr>\n",
       "      <th>75%</th>\n",
       "      <td>53.453452</td>\n",
       "      <td>-0.232869</td>\n",
       "      <td>1.000000</td>\n",
       "      <td>2.000000</td>\n",
       "    </tr>\n",
       "    <tr>\n",
       "      <th>max</th>\n",
       "      <td>60.757544</td>\n",
       "      <td>1.762010</td>\n",
       "      <td>68.000000</td>\n",
       "      <td>32.000000</td>\n",
       "    </tr>\n",
       "  </tbody>\n",
       "</table>\n",
       "</div>"
      ],
      "text/plain": [
       "            Latitude      Longitude  Number_of_Casualties  Number_of_Vehicles\n",
       "count  660654.000000  660653.000000         660679.000000       660679.000000\n",
       "mean       52.553866      -1.431210              1.357040            1.831255\n",
       "std         1.406922       1.383330              0.824847            0.715269\n",
       "min        49.914430      -7.516225              1.000000            1.000000\n",
       "25%        51.490690      -2.332291              1.000000            1.000000\n",
       "50%        52.315641      -1.411667              1.000000            2.000000\n",
       "75%        53.453452      -0.232869              1.000000            2.000000\n",
       "max        60.757544       1.762010             68.000000           32.000000"
      ]
     },
     "execution_count": 4,
     "metadata": {},
     "output_type": "execute_result"
    }
   ],
   "source": [
    "df.describe()"
   ]
  },
  {
   "cell_type": "markdown",
   "id": "247d4912-2195-46aa-9f9b-ad86b87d6a20",
   "metadata": {},
   "source": [
    "<h1>Clearing any Inconsistencies with the Data Set</h1>"
   ]
  },
  {
   "cell_type": "code",
   "execution_count": 5,
   "id": "f155412e-4f57-4bec-9cec-9e2ecbf42f92",
   "metadata": {},
   "outputs": [],
   "source": [
    "df['Accident Data'] = df['Accident Date'].str.strip()\n",
    "df['Accident Data'] = df['Accident Date'].astype('str')\n",
    "df['Accident Data'] = df['Accident Date'].str.replace('/', '-')"
   ]
  },
  {
   "cell_type": "code",
   "execution_count": 6,
   "id": "b2519374-375d-4b65-a039-c0e379591ba2",
   "metadata": {},
   "outputs": [],
   "source": [
    "df['Accident Date'] = pd.to_datetime(df['Accident Date'], dayfirst = True, errors = 'coerce')"
   ]
  },
  {
   "cell_type": "code",
   "execution_count": 7,
   "id": "3cb82467-3c51-4d51-81dc-3b7eeebf7a64",
   "metadata": {},
   "outputs": [
    {
     "data": {
      "text/plain": [
       "Index                              object\n",
       "Accident_Severity                  object\n",
       "Accident Date              datetime64[ns]\n",
       "Latitude                          float64\n",
       "Light_Conditions                   object\n",
       "District Area                      object\n",
       "Longitude                         float64\n",
       "Number_of_Casualties                int64\n",
       "Number_of_Vehicles                  int64\n",
       "Road_Surface_Conditions            object\n",
       "Road_Type                          object\n",
       "Urban_or_Rural_Area                object\n",
       "Weather_Conditions                 object\n",
       "Vehicle_Type                       object\n",
       "Accident Data                      object\n",
       "dtype: object"
      ]
     },
     "execution_count": 7,
     "metadata": {},
     "output_type": "execute_result"
    }
   ],
   "source": [
    "df.dtypes"
   ]
  },
  {
   "cell_type": "markdown",
   "id": "b9f06cf5-ef81-4c9c-8bd0-b2af524c64b2",
   "metadata": {},
   "source": [
    "<h2>Check and Fill Null Values</h2>"
   ]
  },
  {
   "cell_type": "code",
   "execution_count": 8,
   "id": "120e1ad5-10c7-4b4f-9586-062cc620d8fa",
   "metadata": {},
   "outputs": [
    {
     "data": {
      "text/plain": [
       "Index                          0\n",
       "Accident_Severity              0\n",
       "Accident Date                  0\n",
       "Latitude                      25\n",
       "Light_Conditions               0\n",
       "District Area                  0\n",
       "Longitude                     26\n",
       "Number_of_Casualties           0\n",
       "Number_of_Vehicles             0\n",
       "Road_Surface_Conditions      726\n",
       "Road_Type                   4520\n",
       "Urban_or_Rural_Area           15\n",
       "Weather_Conditions         14128\n",
       "Vehicle_Type                   0\n",
       "Accident Data                  0\n",
       "dtype: int64"
      ]
     },
     "execution_count": 8,
     "metadata": {},
     "output_type": "execute_result"
    }
   ],
   "source": [
    "df.isnull().sum()"
   ]
  },
  {
   "cell_type": "code",
   "execution_count": 9,
   "id": "35c57f1f-5cbe-4735-ad9a-bca6afe2c25f",
   "metadata": {},
   "outputs": [],
   "source": [
    "df['Latitude'] = df['Latitude'].fillna(df['Latitude'].mean())\n",
    "df['Longitude'] = df['Longitude'].fillna(df['Longitude'].mean())\n",
    "df['Road_Surface_Conditions'] = df['Road_Surface_Conditions'].fillna(df['Road_Surface_Conditions'].mode()[0])\n",
    "df['Road_Type'] = df['Road_Type'].fillna(df['Road_Type'].mode()[0])\n",
    "df['Urban_or_Rural_Area'] = df['Urban_or_Rural_Area'].fillna(df['Urban_or_Rural_Area'].mode()[0])\n",
    "df['Weather_Conditions'] = df['Weather_Conditions'].fillna(df['Weather_Conditions'].mode()[0])"
   ]
  },
  {
   "cell_type": "markdown",
   "id": "79bfc2f3-92ce-4ec3-a609-dce363375c78",
   "metadata": {},
   "source": [
    "<h1>Extracting Date information using Pandas Date Time</h1>"
   ]
  },
  {
   "cell_type": "code",
   "execution_count": 10,
   "id": "abea44d2-1687-478c-9fc5-f2a454a4412b",
   "metadata": {},
   "outputs": [],
   "source": [
    "df['Year'] = df['Accident Date'].dt.year\n",
    "df['Month'] = df['Accident Date'].dt.month\n",
    "df['Day'] = df['Accident Date'].dt.day\n",
    "df['DayOfWeek'] = df['Accident Date'].dt.dayofweek"
   ]
  },
  {
   "cell_type": "code",
   "execution_count": 11,
   "id": "77c0802c-d172-45be-9fb4-b8e2c92efffe",
   "metadata": {},
   "outputs": [
    {
     "data": {
      "text/plain": [
       "Index                      0\n",
       "Accident_Severity          0\n",
       "Accident Date              0\n",
       "Latitude                   0\n",
       "Light_Conditions           0\n",
       "District Area              0\n",
       "Longitude                  0\n",
       "Number_of_Casualties       0\n",
       "Number_of_Vehicles         0\n",
       "Road_Surface_Conditions    0\n",
       "Road_Type                  0\n",
       "Urban_or_Rural_Area        0\n",
       "Weather_Conditions         0\n",
       "Vehicle_Type               0\n",
       "Accident Data              0\n",
       "Year                       0\n",
       "Month                      0\n",
       "Day                        0\n",
       "DayOfWeek                  0\n",
       "dtype: int64"
      ]
     },
     "execution_count": 11,
     "metadata": {},
     "output_type": "execute_result"
    }
   ],
   "source": [
    "df.isnull().sum()"
   ]
  },
  {
   "cell_type": "markdown",
   "id": "d6c045e5-5176-47ee-9544-3f15a824e22b",
   "metadata": {},
   "source": [
    "<hr>\n",
    "<H1>Exploratory Data Analytics</H1>"
   ]
  },
  {
   "cell_type": "markdown",
   "id": "01241fcb-c3c8-4961-ad91-50909fc6b6e1",
   "metadata": {},
   "source": [
    "<h2>>Question No.1</h2>\n",
    "<h3>What type of vehicle is more prone to accidents according to the data?</h3>"
   ]
  },
  {
   "cell_type": "code",
   "execution_count": 12,
   "id": "dd2c7062-8ef1-458a-be25-68fb972975f3",
   "metadata": {},
   "outputs": [
    {
     "data": {
      "text/plain": [
       "Vehicle_Type\n",
       "Car                                      497992\n",
       "Van / Goods 3.5 tonnes mgw or under       34160\n",
       "Bus or coach (17 or more pass seats)      25878\n",
       "Motorcycle over 500cc                     25657\n",
       "Goods 7.5 tonnes mgw and over             17307\n",
       "Motorcycle 125cc and under                15269\n",
       "Taxi/Private hire car                     13294\n",
       "Motorcycle over 125cc and up to 500cc      7656\n",
       "Motorcycle 50cc and under                  7603\n",
       "Goods over 3.5t. and under 7.5t            6096\n",
       "Other vehicle                              5637\n",
       "Minibus (8 - 16 passenger seats)           1976\n",
       "Agricultural vehicle                       1947\n",
       "Pedal cycle                                 197\n",
       "Data missing or out of range                  6\n",
       "Ridden horse                                  4\n",
       "Name: count, dtype: int64"
      ]
     },
     "execution_count": 12,
     "metadata": {},
     "output_type": "execute_result"
    }
   ],
   "source": [
    "df['Vehicle_Type'].value_counts()"
   ]
  },
  {
   "cell_type": "markdown",
   "id": "d21fd964-b48e-4d27-b85a-dbeb7e8fbec3",
   "metadata": {},
   "source": [
    "<h3>Insights:</h3>\n",
    "<p>Car vehicles are the most prone to accidents according to the data</p>\n",
    "<h3></h3>\n",
    "<hr>"
   ]
  },
  {
   "cell_type": "markdown",
   "id": "25145eb4-4414-4b34-8491-64d949ac327a",
   "metadata": {},
   "source": [
    "<h2>>Question No.2</h2>\n",
    "<h3>What road condition has the most number of accidents?</h3>"
   ]
  },
  {
   "cell_type": "code",
   "execution_count": 13,
   "id": "d882bfba-d981-4bd0-a370-81836b9abd5b",
   "metadata": {},
   "outputs": [
    {
     "data": {
      "text/plain": [
       "Road_Surface_Conditions\n",
       "Dry                     448547\n",
       "Wet or damp             186708\n",
       "Frost or ice             18517\n",
       "Snow                      5890\n",
       "Flood over 3cm. deep      1017\n",
       "Name: count, dtype: int64"
      ]
     },
     "execution_count": 13,
     "metadata": {},
     "output_type": "execute_result"
    }
   ],
   "source": [
    "df['Road_Surface_Conditions'].value_counts()"
   ]
  },
  {
   "cell_type": "markdown",
   "id": "c1766922-19c0-47c1-aeee-7155dd2d66ef",
   "metadata": {},
   "source": [
    "<h3>Insights:</h3>\n",
    "<p>According to the data, the most number of accident happens on a dry road, this may indicate that driver behavior play a more significant role in accidents </p>\n",
    "<h3></h3>\n",
    "<hr>"
   ]
  },
  {
   "cell_type": "markdown",
   "id": "29112b01-b47b-44da-b7fb-73b4a43dbba9",
   "metadata": {},
   "source": [
    "<h2>>Question No.3</h2>\n",
    "<h3>In which lighting situation do the most serious accidents occur?</h3>"
   ]
  },
  {
   "cell_type": "code",
   "execution_count": 14,
   "id": "95f64cb6-67bd-4153-bd28-82f25160be90",
   "metadata": {},
   "outputs": [
    {
     "data": {
      "text/plain": [
       "Accident_Severity  Light_Conditions           \n",
       "Fatal              Darkness - lighting unknown        68\n",
       "                   Darkness - lights lit            1860\n",
       "                   Darkness - lights unlit            45\n",
       "                   Darkness - no lighting           1612\n",
       "                   Daylight                         5076\n",
       "Serious            Darkness - lighting unknown       794\n",
       "                   Darkness - lights lit           19130\n",
       "                   Darkness - lights unlit           360\n",
       "                   Darkness - no lighting           7174\n",
       "                   Daylight                        60759\n",
       "Slight             Darkness - lighting unknown      5622\n",
       "                   Darkness - lights lit          108345\n",
       "                   Darkness - lights unlit          2138\n",
       "                   Darkness - no lighting          28651\n",
       "                   Daylight                       419045\n",
       "dtype: int64"
      ]
     },
     "execution_count": 14,
     "metadata": {},
     "output_type": "execute_result"
    }
   ],
   "source": [
    "df.groupby(['Accident_Severity', 'Light_Conditions']).size()"
   ]
  },
  {
   "cell_type": "markdown",
   "id": "80465edf-e233-4f80-9dad-a1d9ece026ad",
   "metadata": {},
   "source": [
    "<h3>Insights:</h3>\n",
    "<p>The data shows that the most severe accidents happens at night time, indicating that poor lighting cause accidents</p>\n",
    "<h3></h3>\n",
    "<hr>"
   ]
  },
  {
   "cell_type": "markdown",
   "id": "e2694320-0010-4ed6-919f-57e08823f014",
   "metadata": {},
   "source": [
    "<h2>>Question No.4</h2>\n",
    "<h3>Which weather condition has the highest number of accidents?</h3>"
   ]
  },
  {
   "cell_type": "code",
   "execution_count": 15,
   "id": "53e96f8a-4fb6-4395-99b8-fc8767a6b2db",
   "metadata": {},
   "outputs": [
    {
     "data": {
      "text/plain": [
       "Weather_Conditions\n",
       "Fine no high winds       535013\n",
       "Raining no high winds     79696\n",
       "Other                     17150\n",
       "Raining + high winds       9615\n",
       "Fine + high winds          8554\n",
       "Snowing no high winds      6238\n",
       "Fog or mist                3528\n",
       "Snowing + high winds        885\n",
       "Name: count, dtype: int64"
      ]
     },
     "execution_count": 15,
     "metadata": {},
     "output_type": "execute_result"
    }
   ],
   "source": [
    "df['Weather_Conditions'].value_counts()"
   ]
  },
  {
   "cell_type": "markdown",
   "id": "90adc3ff-4a66-4aaa-997b-79cb877dd2e6",
   "metadata": {},
   "source": [
    "<h3>Insights:</h3>\n",
    "<p>The data shows that most accidents happened when the weather was clear, indicating that poor weather is not the leading cause of accidents.</p>\n",
    "<h3></h3>\n",
    "<hr>"
   ]
  },
  {
   "cell_type": "markdown",
   "id": "263f427e-1b6e-44a7-9145-98d41d79b34f",
   "metadata": {},
   "source": [
    "<h2>>Question No.5</h2>\n",
    "<h3>Are nighttime accidents more common in urban areas or rural areas?</h3>"
   ]
  },
  {
   "cell_type": "code",
   "execution_count": 16,
   "id": "194a3bc1-1c9b-4107-b5d5-4172de375698",
   "metadata": {},
   "outputs": [
    {
     "data": {
      "text/plain": [
       "Light_Conditions             Urban_or_Rural_Area\n",
       "Darkness - lighting unknown  Rural                    2467\n",
       "                             Urban                    4017\n",
       "Darkness - lights lit        Rural                   24695\n",
       "                             Unallocated                 2\n",
       "                             Urban                  104638\n",
       "Darkness - lights unlit      Rural                     961\n",
       "                             Urban                    1582\n",
       "Darkness - no lighting       Rural                   35517\n",
       "                             Urban                    1920\n",
       "Daylight                     Rural                  175350\n",
       "                             Unallocated                 9\n",
       "                             Urban                  309521\n",
       "dtype: int64"
      ]
     },
     "execution_count": 16,
     "metadata": {},
     "output_type": "execute_result"
    }
   ],
   "source": [
    "df.groupby(['Light_Conditions', 'Urban_or_Rural_Area']).size()\n"
   ]
  },
  {
   "cell_type": "markdown",
   "id": "63c2f484-341f-45dc-8b61-572724c05805",
   "metadata": {},
   "source": [
    "<h3>Insights:</h3>\n",
    "<p>Nighttime accidents occur more often in urban areas than in rural areas. This indicates that traffic density in cities contributes to more accidents at night. However, under ‘darkness with no lighting,’ rural areas show more accidents, likely due to limited street lighting and visibility.</p>\n",
    "<h3></h3>\n",
    "<hr>"
   ]
  },
  {
   "cell_type": "markdown",
   "id": "02f7f05d-fd57-4c06-8c21-cd2c75bc1117",
   "metadata": {},
   "source": [
    "<h2>>Question No.6</h2>\n",
    "<h3>Which district has the largest number of accidents?</h3>"
   ]
  },
  {
   "cell_type": "code",
   "execution_count": 17,
   "id": "c67937cc-c5a6-4d6a-ada2-f25d06721eeb",
   "metadata": {},
   "outputs": [
    {
     "data": {
      "text/plain": [
       "District Area\n",
       "Birmingham            13491\n",
       "Leeds                  8898\n",
       "Manchester             6720\n",
       "Bradford               6212\n",
       "Sheffield              5710\n",
       "                      ...  \n",
       "Berwick-upon-Tweed      153\n",
       "Teesdale                142\n",
       "Shetland Islands        133\n",
       "Orkney Islands          117\n",
       "Clackmannanshire         91\n",
       "Name: count, Length: 422, dtype: int64"
      ]
     },
     "execution_count": 17,
     "metadata": {},
     "output_type": "execute_result"
    }
   ],
   "source": [
    "df['District Area'].value_counts()"
   ]
  },
  {
   "cell_type": "markdown",
   "id": "3cd846ef-8c3e-453c-bdab-5b361284ec61",
   "metadata": {},
   "source": [
    "<h3>Insights:</h3>\n",
    "<p>Based on the data, Birmingham has the highest number of accidents. This suggests that Birmingham is a hotspot for road accidents, likely due to its large population.</p>\n",
    "<h3></h3>\n",
    "<hr>"
   ]
  },
  {
   "cell_type": "markdown",
   "id": "578209d7-4bfd-4474-b1b3-0ee22d900dad",
   "metadata": {},
   "source": [
    "<h2>>Question No.7</h2>\n",
    "<h3>Which road type (single carriageway, dual carriageway, roundabout, etc.) sees the most accidents?</h3>"
   ]
  },
  {
   "cell_type": "code",
   "execution_count": 18,
   "id": "1820a8cd-d2c6-41c2-9451-eab8d74b9f02",
   "metadata": {},
   "outputs": [
    {
     "data": {
      "text/plain": [
       "Road_Type\n",
       "Single carriageway    496663\n",
       "Dual carriageway       99424\n",
       "Roundabout             43992\n",
       "One way street         13559\n",
       "Slip road               7041\n",
       "Name: count, dtype: int64"
      ]
     },
     "execution_count": 18,
     "metadata": {},
     "output_type": "execute_result"
    }
   ],
   "source": [
    "df['Road_Type'].value_counts()"
   ]
  },
  {
   "cell_type": "markdown",
   "id": "6faf99df-5937-407e-af11-65e96a5a5873",
   "metadata": {},
   "source": [
    "<h3>Insights:</h3>\n",
    "<p>Most accidents occur on single carriageways, far more than on other road types, likely due to their widespread use and higher traffic exposure.</p>\n",
    "<h3></h3>\n",
    "<hr>"
   ]
  },
  {
   "cell_type": "markdown",
   "id": "93ef4cc7-6d05-484e-93dc-72edd1d2af3e",
   "metadata": {},
   "source": [
    "<h2>>Question No.8</h2>\n",
    "<h3>What is the average number of vehicles per accident?</h3>"
   ]
  },
  {
   "cell_type": "code",
   "execution_count": 19,
   "id": "cd095424-1fb8-428f-934a-e0e3be2ebdb3",
   "metadata": {},
   "outputs": [
    {
     "data": {
      "text/plain": [
       "np.float64(1.8312554205597575)"
      ]
     },
     "execution_count": 19,
     "metadata": {},
     "output_type": "execute_result"
    }
   ],
   "source": [
    "df['Number_of_Vehicles'].mean()"
   ]
  },
  {
   "cell_type": "markdown",
   "id": "ad779cb2-2ca4-41e7-a44a-0a4d56456d39",
   "metadata": {},
   "source": [
    "<h3>Insights:</h3>\n",
    "<p>On average, about 1.83 vehicles are involved in each accident, meaning most accidents typically involve two vehicles rather than single-vehicle incidents.</p>\n",
    "<h3></h3>\n",
    "<hr>"
   ]
  },
  {
   "cell_type": "markdown",
   "id": "85288db4-f1ef-47f6-8fbf-06b7a64ed451",
   "metadata": {},
   "source": [
    "<h2>>Question No.9</h2>\n",
    "<h3>What is the average number of casualties per accident?</h3>"
   ]
  },
  {
   "cell_type": "code",
   "execution_count": 20,
   "id": "44e0aa50-5bbd-41f5-8f33-364c1d0c6ba7",
   "metadata": {},
   "outputs": [
    {
     "data": {
      "text/plain": [
       "np.float64(1.357040257068864)"
      ]
     },
     "execution_count": 20,
     "metadata": {},
     "output_type": "execute_result"
    }
   ],
   "source": [
    "df['Number_of_Casualties'].mean()"
   ]
  },
  {
   "cell_type": "markdown",
   "id": "c5080679-58d0-4686-98be-f8391e6b88f5",
   "metadata": {},
   "source": [
    "<h3>Insights:</h3>\n",
    "<p>On average, each accident results in about 1.36 casualties, showing that most accidents involve at least one person being injured or affected.</p>\n",
    "<h3></h3>\n",
    "<hr>"
   ]
  },
  {
   "cell_type": "markdown",
   "id": "5e6d9f47-c864-46fd-b721-27df12b6db4f",
   "metadata": {},
   "source": [
    "<h2>>Question No.10</h2>\n",
    "<h3>Do accidents with more vehicles usually result in more casualties?</h3>"
   ]
  },
  {
   "cell_type": "code",
   "execution_count": 21,
   "id": "9e7f18c2-cd43-4fab-be9f-912bf7b5be02",
   "metadata": {},
   "outputs": [
    {
     "data": {
      "text/plain": [
       "np.float64(0.22888886126927557)"
      ]
     },
     "execution_count": 21,
     "metadata": {},
     "output_type": "execute_result"
    }
   ],
   "source": [
    "df['Number_of_Vehicles'].corr(df['Number_of_Casualties'])\n"
   ]
  },
  {
   "cell_type": "markdown",
   "id": "f58911f0-b236-4d96-98e9-7d7c7abed6a9",
   "metadata": {},
   "source": [
    "<h3>Insights:</h3>\n",
    "<p>There is a weak positive correlation (≈0.23) between the number of vehicles and casualties. This means accidents involving more vehicles tend to have slightly more casualties, but the relationship is not very strong.</p>\n",
    "<h3></h3>\n",
    "<hr>"
   ]
  },
  {
   "cell_type": "markdown",
   "id": "65fa74be-97db-4f81-a18d-bcb9311fa037",
   "metadata": {},
   "source": [
    "<h2>>Question No.11</h2>\n",
    "<h3>Which weather condition is linked to the highest number of severe accidents?</h3>"
   ]
  },
  {
   "cell_type": "code",
   "execution_count": 22,
   "id": "6096c161-bd2b-4d7a-a547-1e102db63974",
   "metadata": {},
   "outputs": [
    {
     "data": {
      "text/plain": [
       "Weather_Conditions     Accident_Severity\n",
       "Fine + high winds      Fatal                   175\n",
       "                       Serious                1245\n",
       "                       Slight                 7134\n",
       "Fine no high winds     Fatal                  7207\n",
       "                       Serious               73285\n",
       "                       Slight               454521\n",
       "Fog or mist            Fatal                    82\n",
       "                       Serious                 483\n",
       "                       Slight                 2963\n",
       "Other                  Fatal                   165\n",
       "                       Serious                1801\n",
       "                       Slight                15184\n",
       "Raining + high winds   Fatal                   145\n",
       "                       Serious                1261\n",
       "                       Slight                 8209\n",
       "Raining no high winds  Fatal                   848\n",
       "                       Serious                9468\n",
       "                       Slight                69380\n",
       "Snowing + high winds   Fatal                     3\n",
       "                       Serious                 109\n",
       "                       Slight                  773\n",
       "Snowing no high winds  Fatal                    36\n",
       "                       Serious                 565\n",
       "                       Slight                 5637\n",
       "dtype: int64"
      ]
     },
     "execution_count": 22,
     "metadata": {},
     "output_type": "execute_result"
    }
   ],
   "source": [
    "df.groupby(['Weather_Conditions', 'Accident_Severity']).size()"
   ]
  },
  {
   "cell_type": "markdown",
   "id": "d0d31e42-ab6c-4e79-81f4-bdecd3e3a5b3",
   "metadata": {},
   "source": [
    "<h3>Insights:</h3>\n",
    "<p>Most severe accidents (fatal and serious) occur under fine weather without high winds. This suggests that good weather may create a false sense of safety,</p>\n",
    "<h3></h3>\n",
    "<hr>"
   ]
  },
  {
   "cell_type": "markdown",
   "id": "13ab666d-1fa9-42fb-ad95-b15c5d9df2b5",
   "metadata": {},
   "source": [
    "<h2>>Question No.12</h2>\n",
    "<h3>Which district area had the most accidents involving cars?</h3>"
   ]
  },
  {
   "cell_type": "code",
   "execution_count": 23,
   "id": "174a4037-0e5a-4f0c-9690-8af51b10a46b",
   "metadata": {
    "scrolled": true
   },
   "outputs": [
    {
     "data": {
      "text/plain": [
       "District Area\n",
       "Birmingham    9600\n",
       "Leeds         6875\n",
       "Manchester    5248\n",
       "Bradford      4749\n",
       "Sheffield     4306\n",
       "Name: count, dtype: int64"
      ]
     },
     "execution_count": 23,
     "metadata": {},
     "output_type": "execute_result"
    }
   ],
   "source": [
    "carses = df[df['Vehicle_Type'] == 'Car']['District Area'].value_counts().head(5)\n",
    "carses"
   ]
  },
  {
   "cell_type": "markdown",
   "id": "0d0c200d-5bec-40b5-b0f1-aeaa341b19bd",
   "metadata": {},
   "source": [
    "<h3>Insights:</h3>\n",
    "<p>Birmingham has the highest number of accidents involving cars. Possibly due to a large number of people owning cars in this district</p>\n",
    "<h3></h3>\n",
    "<hr>"
   ]
  },
  {
   "cell_type": "markdown",
   "id": "9cf36805-68c6-4177-bec1-c785ccf75783",
   "metadata": {},
   "source": [
    "<h2>>Question No.13</h2>\n",
    "<h3>Which district area had the most accidents with slight severity</h3>"
   ]
  },
  {
   "cell_type": "code",
   "execution_count": 24,
   "id": "5a76f147-ca9d-4eec-ab2d-b432f4115173",
   "metadata": {},
   "outputs": [
    {
     "data": {
      "text/plain": [
       "count         563801\n",
       "unique           422\n",
       "top       Birmingham\n",
       "freq           11912\n",
       "Name: District Area, dtype: object"
      ]
     },
     "execution_count": 24,
     "metadata": {},
     "output_type": "execute_result"
    }
   ],
   "source": [
    "sliacc = df[df['Accident_Severity'] == 'Slight']\n",
    "sliacc['District Area'].describe()"
   ]
  },
  {
   "cell_type": "markdown",
   "id": "24a3ef79-4c0a-4270-a9ec-b50541785976",
   "metadata": {},
   "source": [
    "<h3>Insights:</h3>\n",
    "<p>The data shows that Birmingham had the most slightly severe accidents</p>\n",
    "<h3></h3>\n",
    "<hr>"
   ]
  },
  {
   "cell_type": "markdown",
   "id": "5e0c8c3e-ce22-40cc-9a78-d824b204a1a4",
   "metadata": {},
   "source": [
    "<h2>>Question No.14</h2>\n",
    "<h3>What is the highest number of casualties recorded in a single accident?</h3>"
   ]
  },
  {
   "cell_type": "code",
   "execution_count": 25,
   "id": "ce7cf19f-7a41-4b1b-b321-a280aa10eb77",
   "metadata": {},
   "outputs": [
    {
     "data": {
      "text/plain": [
       "np.int64(68)"
      ]
     },
     "execution_count": 25,
     "metadata": {},
     "output_type": "execute_result"
    }
   ],
   "source": [
    "df['Number_of_Casualties'].max()\n"
   ]
  },
  {
   "cell_type": "code",
   "execution_count": 26,
   "id": "da02e879-079b-4f31-8073-cb77a088ed81",
   "metadata": {},
   "outputs": [
    {
     "data": {
      "text/html": [
       "<div>\n",
       "<style scoped>\n",
       "    .dataframe tbody tr th:only-of-type {\n",
       "        vertical-align: middle;\n",
       "    }\n",
       "\n",
       "    .dataframe tbody tr th {\n",
       "        vertical-align: top;\n",
       "    }\n",
       "\n",
       "    .dataframe thead th {\n",
       "        text-align: right;\n",
       "    }\n",
       "</style>\n",
       "<table border=\"1\" class=\"dataframe\">\n",
       "  <thead>\n",
       "    <tr style=\"text-align: right;\">\n",
       "      <th></th>\n",
       "      <th>Index</th>\n",
       "      <th>Accident_Severity</th>\n",
       "      <th>Accident Date</th>\n",
       "      <th>Latitude</th>\n",
       "      <th>Light_Conditions</th>\n",
       "      <th>District Area</th>\n",
       "      <th>Longitude</th>\n",
       "      <th>Number_of_Casualties</th>\n",
       "      <th>Number_of_Vehicles</th>\n",
       "      <th>Road_Surface_Conditions</th>\n",
       "      <th>Road_Type</th>\n",
       "      <th>Urban_or_Rural_Area</th>\n",
       "      <th>Weather_Conditions</th>\n",
       "      <th>Vehicle_Type</th>\n",
       "      <th>Accident Data</th>\n",
       "      <th>Year</th>\n",
       "      <th>Month</th>\n",
       "      <th>Day</th>\n",
       "      <th>DayOfWeek</th>\n",
       "    </tr>\n",
       "  </thead>\n",
       "  <tbody>\n",
       "    <tr>\n",
       "      <th>117980</th>\n",
       "      <td>200743N002017</td>\n",
       "      <td>Fatal</td>\n",
       "      <td>2019-01-03</td>\n",
       "      <td>51.497547</td>\n",
       "      <td>Darkness - lights lit</td>\n",
       "      <td>South Bucks</td>\n",
       "      <td>-0.496697</td>\n",
       "      <td>68</td>\n",
       "      <td>1</td>\n",
       "      <td>Wet or damp</td>\n",
       "      <td>Slip road</td>\n",
       "      <td>Rural</td>\n",
       "      <td>Raining no high winds</td>\n",
       "      <td>Car</td>\n",
       "      <td>03-01-2019</td>\n",
       "      <td>2019</td>\n",
       "      <td>1</td>\n",
       "      <td>3</td>\n",
       "      <td>3</td>\n",
       "    </tr>\n",
       "  </tbody>\n",
       "</table>\n",
       "</div>"
      ],
      "text/plain": [
       "                Index Accident_Severity Accident Date   Latitude  \\\n",
       "117980  200743N002017             Fatal    2019-01-03  51.497547   \n",
       "\n",
       "             Light_Conditions District Area  Longitude  Number_of_Casualties  \\\n",
       "117980  Darkness - lights lit   South Bucks  -0.496697                    68   \n",
       "\n",
       "        Number_of_Vehicles Road_Surface_Conditions  Road_Type  \\\n",
       "117980                   1             Wet or damp  Slip road   \n",
       "\n",
       "       Urban_or_Rural_Area     Weather_Conditions Vehicle_Type Accident Data  \\\n",
       "117980               Rural  Raining no high winds          Car    03-01-2019   \n",
       "\n",
       "        Year  Month  Day  DayOfWeek  \n",
       "117980  2019      1    3          3  "
      ]
     },
     "execution_count": 26,
     "metadata": {},
     "output_type": "execute_result"
    }
   ],
   "source": [
    "df[df['Number_of_Casualties']== 68]"
   ]
  },
  {
   "cell_type": "markdown",
   "id": "5628c60e-ffd8-4a47-96bf-f12c2ba9110e",
   "metadata": {},
   "source": [
    "<h3>Insights:</h3>\n",
    "<p>The highest number of casualties in a single accident was 68, occurring in South Bucks. This suggests rare but extreme incidents can cause unusually high casualty counts, even involving just one vehicle.</p>\n",
    "<h3></h3>\n",
    "<hr>"
   ]
  },
  {
   "cell_type": "markdown",
   "id": "f0a7f628-9ed1-483c-8256-b49185dff8c0",
   "metadata": {},
   "source": [
    "<h2>>Question No.15</h2>\n",
    "<h3>In Urban areas, what type of road surface condition has the most accident happen?</h3>"
   ]
  },
  {
   "cell_type": "code",
   "execution_count": 27,
   "id": "d01511b2-e8a8-4e3e-bb26-5c1001335553",
   "metadata": {},
   "outputs": [
    {
     "data": {
      "text/plain": [
       "Road_Surface_Conditions\n",
       "Dry                     303397\n",
       "Wet or damp             107698\n",
       "Frost or ice              7564\n",
       "Snow                      2788\n",
       "Flood over 3cm. deep       231\n",
       "Name: count, dtype: int64"
      ]
     },
     "execution_count": 27,
     "metadata": {},
     "output_type": "execute_result"
    }
   ],
   "source": [
    "urbroad = df[df['Urban_or_Rural_Area'] == 'Urban']\n",
    "\n",
    "urbroad['Road_Surface_Conditions'].value_counts()"
   ]
  },
  {
   "cell_type": "markdown",
   "id": "47520a16-684c-47a7-9abd-aca9027aa6b0",
   "metadata": {},
   "source": [
    "<h3>Insights:</h3>\n",
    "<p>Accidents mostly happens on dry roads in Urban areas.</p>\n",
    "<h3></h3>\n",
    "<hr>"
   ]
  },
  {
   "cell_type": "markdown",
   "id": "ccffa98f-c59a-4c05-9997-f592eedf395b",
   "metadata": {},
   "source": [
    "<h2>>Question No.16</h2>\n",
    "<h3>What's the average number of casualties by the severity of accident?</h3>"
   ]
  },
  {
   "cell_type": "code",
   "execution_count": 28,
   "id": "8cf5ce23-6323-455c-bdd1-69c2c205c4f4",
   "metadata": {},
   "outputs": [
    {
     "data": {
      "text/plain": [
       "Accident_Severity\n",
       "Fatal      1.90\n",
       "Serious    1.47\n",
       "Slight     1.33\n",
       "Name: Number_of_Casualties, dtype: float64"
      ]
     },
     "execution_count": 28,
     "metadata": {},
     "output_type": "execute_result"
    }
   ],
   "source": [
    "np.round(df.groupby('Accident_Severity')['Number_of_Casualties'].mean(),2)"
   ]
  },
  {
   "cell_type": "markdown",
   "id": "1bb23901-a361-4e03-888a-961d3aeac9c5",
   "metadata": {},
   "source": [
    "<h3>Insights:</h3>\n",
    "<p>The data above shows that the average number of casualties, be it in every severity of accidents does not exceeds to more than 2.</p>\n",
    "<h3></h3>\n",
    "<hr>"
   ]
  },
  {
   "cell_type": "markdown",
   "id": "722f04a6-3d12-4357-906b-75f988efd297",
   "metadata": {},
   "source": [
    "<h2>>Question No.17</h2>\n",
    "<h3>Which district has the highest number of Frost or ice road accidents?</h3>"
   ]
  },
  {
   "cell_type": "code",
   "execution_count": 29,
   "id": "e3bbda2a-4c16-40ea-a55c-2d4d05dc3a75",
   "metadata": {},
   "outputs": [
    {
     "name": "stdout",
     "output_type": "stream",
     "text": [
      "Birmingham - 306\n"
     ]
    }
   ],
   "source": [
    "frost = df[df['Road_Surface_Conditions'] == \"Frost or ice\"].groupby('District Area').size()\n",
    "mostfrost = frost.idxmax()\n",
    "mostfrostNum = frost.max()\n",
    "print(f'{mostfrost} - {mostfrostNum}')"
   ]
  },
  {
   "cell_type": "markdown",
   "id": "5006f4df-68a0-455b-b5ae-865b5ae04ab7",
   "metadata": {},
   "source": [
    "<h3>Insights:</h3>\n",
    "<p>Birmingham has the highest number of accidents on Frost or ice, with a total of 306</p>\n",
    "<h3></h3>\n",
    "<hr>"
   ]
  },
  {
   "cell_type": "markdown",
   "id": "229746a9-424e-41fa-bf86-18b982072329",
   "metadata": {},
   "source": [
    "<h2>>Question No.18</h2>\n",
    "<h3>Which weather condition has the highest average number of casualties?</h3>"
   ]
  },
  {
   "cell_type": "code",
   "execution_count": 30,
   "id": "53351f5d-2aba-4e57-9638-15ad72db4304",
   "metadata": {},
   "outputs": [
    {
     "data": {
      "text/plain": [
       "Weather_Conditions\n",
       "Fine + high winds        1.386018\n",
       "Fine no high winds       1.347397\n",
       "Fog or mist              1.452948\n",
       "Other                    1.354869\n",
       "Raining + high winds     1.416641\n",
       "Raining no high winds    1.408214\n",
       "Snowing + high winds     1.418079\n",
       "Snowing no high winds    1.341776\n",
       "Name: Number_of_Casualties, dtype: float64"
      ]
     },
     "execution_count": 30,
     "metadata": {},
     "output_type": "execute_result"
    }
   ],
   "source": [
    "df.groupby(\"Weather_Conditions\")[\"Number_of_Casualties\"].mean()"
   ]
  },
  {
   "cell_type": "markdown",
   "id": "16c03966-5a99-40d0-8195-0fef6990fe8c",
   "metadata": {},
   "source": [
    "<h3>Insights:</h3>\n",
    "<p>The highest average casualties per accident happen during fog or mist, showing low visibility is particularly dangerous.</p>\n",
    "<h3></h3>\n",
    "<hr>"
   ]
  },
  {
   "cell_type": "markdown",
   "id": "bfd021e9-6e02-4853-941d-371a57c0af25",
   "metadata": {},
   "source": [
    "<h2>>Question No.19</h2>\n",
    "<h3>Do Bus accidents increase casualty count more in rural or urban areas?</h3>"
   ]
  },
  {
   "cell_type": "code",
   "execution_count": 31,
   "id": "d21f4a71-e599-418d-be83-4e1c6ae603f7",
   "metadata": {},
   "outputs": [
    {
     "data": {
      "text/plain": [
       "Urban_or_Rural_Area\n",
       "Rural           9025\n",
       "Unallocated        2\n",
       "Urban          16851\n",
       "dtype: int64"
      ]
     },
     "execution_count": 31,
     "metadata": {},
     "output_type": "execute_result"
    }
   ],
   "source": [
    "df[(df['Vehicle_Type'] == 'Bus or coach (17 or more pass seats)') | \n",
    "    (df['Vehicle_Type'] == 'Bus or coach (17 or more pass seats)')].groupby('Urban_or_Rural_Area').size()"
   ]
  },
  {
   "cell_type": "markdown",
   "id": "10c0395c-06c8-4f35-8943-7d1300c10dfc",
   "metadata": {},
   "source": [
    "<h3>Insights:</h3>\n",
    "<p>Motorcycle accidents are more frequent in urban areas, with 16851 accidents compared to 9025 in rural areas.</p>\n",
    "<h3></h3>\n",
    "<hr>"
   ]
  },
  {
   "cell_type": "markdown",
   "id": "ff849c3a-7612-4e30-be68-fa83c7cc9a7e",
   "metadata": {},
   "source": [
    "<h2>>Question No.20</h2>\n",
    "<h3>Which light condition (daylight, darkness, etc.) is most associated with Serious accidents?</h3>"
   ]
  },
  {
   "cell_type": "code",
   "execution_count": 33,
   "id": "5b6d7f08-fcf1-4ef8-bed6-a0ceaebfa808",
   "metadata": {},
   "outputs": [
    {
     "data": {
      "text/plain": [
       "Light_Conditions\n",
       "Darkness - lighting unknown      794\n",
       "Darkness - lights lit          19130\n",
       "Darkness - lights unlit          360\n",
       "Darkness - no lighting          7174\n",
       "Daylight                       60759\n",
       "dtype: int64"
      ]
     },
     "execution_count": 33,
     "metadata": {},
     "output_type": "execute_result"
    }
   ],
   "source": [
    "light = df[df['Accident_Severity']== 'Serious'].groupby('Light_Conditions').size()\n",
    "light"
   ]
  },
  {
   "cell_type": "markdown",
   "id": "2286ec7e-1a8b-479d-a386-dc8819883683",
   "metadata": {},
   "source": [
    "<h3>Insights:</h3>\n",
    "<p>Daylight has the highest number of Serious accidents with 60759 accidents, indicating that accidents that cause Serious injuries happen when the sun is still out</p>\n",
    "<h3></h3>\n",
    "<hr>"
   ]
  },
  {
   "cell_type": "markdown",
   "id": "97df8b41-4b69-41af-9ad3-90a4aa6de7df",
   "metadata": {},
   "source": [
    "<h2>>Question No.21</h2>\n",
    "<h3>Which light condition (daylight, darkness, etc.) is most associated with Serious accidents?</h3>"
   ]
  },
  {
   "cell_type": "code",
   "execution_count": null,
   "id": "56002b3a-8d1a-4492-a286-3d8f8a67d2f9",
   "metadata": {},
   "outputs": [],
   "source": []
  }
 ],
 "metadata": {
  "kernelspec": {
   "display_name": "Python 3 (ipykernel)",
   "language": "python",
   "name": "python3"
  },
  "language_info": {
   "codemirror_mode": {
    "name": "ipython",
    "version": 3
   },
   "file_extension": ".py",
   "mimetype": "text/x-python",
   "name": "python",
   "nbconvert_exporter": "python",
   "pygments_lexer": "ipython3",
   "version": "3.13.7"
  }
 },
 "nbformat": 4,
 "nbformat_minor": 5
}
